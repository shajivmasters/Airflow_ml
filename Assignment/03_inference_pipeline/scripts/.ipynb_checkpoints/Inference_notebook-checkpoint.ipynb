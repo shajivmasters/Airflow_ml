{
 "cells": [
  {
   "cell_type": "code",
   "execution_count": 1,
   "id": "19f9e9c5-4af2-428b-b088-2d71416eb097",
   "metadata": {},
   "outputs": [
    {
     "name": "stdout",
     "output_type": "stream",
     "text": [
      "DB_PATH : /home/airflow/dags/Lead_scoring_data_pipeline/ \n",
      "DB_FILE_NAME: lead_scoring_data_cleaning.db\n",
      "FEATURES_TO_ENCODE: ['first_platform_c', 'first_utm_medium_c', 'first_utm_source_c']\n",
      "ONE_HOT_ENCODED_FEATURES: ['city_tier', 'total_leads_droppped', 'referred_lead', 'assistance_interaction', 'career_interaction', 'payment_interaction', 'social_interaction', 'syllabus_interaction', 'first_platform_c_Level0', 'first_platform_c_Level1', 'first_platform_c_Level2', 'first_platform_c_Level3', 'first_platform_c_Level7', 'first_platform_c_Level8', 'first_platform_c_others', 'first_utm_medium_c_Level0', 'first_utm_medium_c_Level10', 'first_utm_medium_c_Level11', 'first_utm_medium_c_Level13', 'first_utm_medium_c_Level15', 'first_utm_medium_c_Level16', 'first_utm_medium_c_Level2', 'first_utm_medium_c_Level20', 'first_utm_medium_c_Level26', 'first_utm_medium_c_Level3', 'first_utm_medium_c_Level30', 'first_utm_medium_c_Level33', 'first_utm_medium_c_Level4', 'first_utm_medium_c_Level43', 'first_utm_medium_c_Level5', 'first_utm_medium_c_Level6', 'first_utm_medium_c_Level8', 'first_utm_medium_c_Level9', 'first_utm_medium_c_others', 'first_utm_source_c_Level0', 'first_utm_source_c_Level14', 'first_utm_source_c_Level16', 'first_utm_source_c_Level2', 'first_utm_source_c_Level4', 'first_utm_source_c_Level5', 'first_utm_source_c_Level6', 'first_utm_source_c_Level7', 'first_utm_source_c_others'] \n",
      "TRACKING_URI:http://0.0.0.0:6006\n",
      "EXPERIMENT:LightGB_Lead_Scoring_Training_Pipeline_20230914035014\n",
      "DB_FILE_MLFLOW:/home/Shajiv_Assignment/Assignment/02_training_pipeline/scripts/Lead_scoring_mlflow_production.db\n",
      "model_config : {\n",
      "    \"boosting_type\": \"gbdt\",\n",
      "    \"class_weight\": null,\n",
      "    \"colsample_bytree\": 1.0,\n",
      "    \"importance_type\": \"split\",\n",
      "    \"learning_rate\": 0.01,\n",
      "    \"max_depth\": 10,\n",
      "    \"min_child_samples\": 50,\n",
      "    \"min_child_weight\": 0.001,\n",
      "    \"min_split_gain\": 0.0,\n",
      "    \"n_estimators\": 200,\n",
      "    \"n_jobs\": -1,\n",
      "    \"num_leaves\": 50,\n",
      "    \"objective\": null,\n",
      "    \"random_state\": 42,\n",
      "    \"reg_alpha\": 0.1,\n",
      "    \"reg_lambda\": 0.1,\n",
      "    \"silent\": \"warn\",\n",
      "    \"subsample\": 0.9,\n",
      "    \"subsample_for_bin\": 300000,\n",
      "    \"subsample_freq\": 0\n",
      "}\n",
      "\n"
     ]
    }
   ],
   "source": [
    "from utils import encode_features,input_features_check"
   ]
  },
  {
   "cell_type": "code",
   "execution_count": 2,
   "id": "29a4ac27-53b3-4737-9d78-6c676f433ae2",
   "metadata": {},
   "outputs": [
    {
     "name": "stdout",
     "output_type": "stream",
     "text": [
      "Before encoding data Columns (13): created_date,first_platform_c,first_utm_medium_c,first_utm_source_c,total_leads_droppped,city_tier,referred_lead,app_complete_flag,assistance_interaction,career_interaction,payment_interaction,social_interaction,syllabus_interaction\n",
      "Before encoding data shape : (238964, 13)\n",
      "Index(['created_date', 'first_platform_c', 'first_utm_medium_c',\n",
      "       'first_utm_source_c', 'total_leads_droppped', 'city_tier',\n",
      "       'referred_lead', 'app_complete_flag', 'assistance_interaction',\n",
      "       'career_interaction', 'payment_interaction', 'social_interaction',\n",
      "       'syllabus_interaction'],\n",
      "      dtype='object')\n",
      "After droping the 'app_complete_flag' column (12) :created_date,first_platform_c,first_utm_medium_c,first_utm_source_c,total_leads_droppped,city_tier,referred_lead,assistance_interaction,career_interaction,payment_interaction,social_interaction,syllabus_interaction\n",
      "After encoding data Columns  (44): created_date,total_leads_droppped,city_tier,referred_lead,assistance_interaction,career_interaction,payment_interaction,social_interaction,syllabus_interaction,first_platform_c_Level0,first_platform_c_Level1,first_platform_c_Level2,first_platform_c_Level3,first_platform_c_Level7,first_platform_c_Level8,first_platform_c_others,first_utm_medium_c_Level0,first_utm_medium_c_Level10,first_utm_medium_c_Level11,first_utm_medium_c_Level13,first_utm_medium_c_Level15,first_utm_medium_c_Level16,first_utm_medium_c_Level2,first_utm_medium_c_Level20,first_utm_medium_c_Level26,first_utm_medium_c_Level3,first_utm_medium_c_Level30,first_utm_medium_c_Level33,first_utm_medium_c_Level4,first_utm_medium_c_Level43,first_utm_medium_c_Level5,first_utm_medium_c_Level6,first_utm_medium_c_Level8,first_utm_medium_c_Level9,first_utm_medium_c_others,first_utm_source_c_Level0,first_utm_source_c_Level14,first_utm_source_c_Level16,first_utm_source_c_Level2,first_utm_source_c_Level4,first_utm_source_c_Level5,first_utm_source_c_Level6,first_utm_source_c_Level7,first_utm_source_c_others\n",
      "After encoding data shape : (238964, 44)\n"
     ]
    }
   ],
   "source": [
    "encode_features()"
   ]
  },
  {
   "cell_type": "code",
   "execution_count": 3,
   "id": "b423a53b-8a96-469d-97c7-53825fbb37c1",
   "metadata": {},
   "outputs": [
    {
     "name": "stdout",
     "output_type": "stream",
     "text": [
      "All the models input are present\n"
     ]
    }
   ],
   "source": [
    "input_features_check()"
   ]
  },
  {
   "cell_type": "code",
   "execution_count": null,
   "id": "9ac5e460-f36e-403d-b9c2-3581ba7522a4",
   "metadata": {},
   "outputs": [],
   "source": []
  }
 ],
 "metadata": {
  "kernelspec": {
   "display_name": "Python 3 (ipykernel)",
   "language": "python",
   "name": "python3"
  },
  "language_info": {
   "codemirror_mode": {
    "name": "ipython",
    "version": 3
   },
   "file_extension": ".py",
   "mimetype": "text/x-python",
   "name": "python",
   "nbconvert_exporter": "python",
   "pygments_lexer": "ipython3",
   "version": "3.8.12"
  }
 },
 "nbformat": 4,
 "nbformat_minor": 5
}
