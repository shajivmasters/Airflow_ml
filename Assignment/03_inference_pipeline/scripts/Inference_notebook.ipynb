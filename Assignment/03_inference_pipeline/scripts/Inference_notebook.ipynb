{
 "cells": [
  {
   "cell_type": "code",
   "execution_count": 1,
   "id": "19f9e9c5-4af2-428b-b088-2d71416eb097",
   "metadata": {},
   "outputs": [],
   "source": [
    "from utils import encode_features,input_features_check,get_models_prediction,prediction_ratio_check"
   ]
  },
  {
   "cell_type": "code",
   "execution_count": 2,
   "id": "29a4ac27-53b3-4737-9d78-6c676f433ae2",
   "metadata": {},
   "outputs": [
    {
     "name": "stdout",
     "output_type": "stream",
     "text": [
      "Before encoding data shape : (238964, 13)\n",
      "Index(['created_date', 'first_platform_c', 'first_utm_medium_c',\n",
      "       'first_utm_source_c', 'total_leads_droppped', 'city_tier',\n",
      "       'referred_lead', 'app_complete_flag', 'assistance_interaction',\n",
      "       'career_interaction', 'payment_interaction', 'social_interaction',\n",
      "       'syllabus_interaction'],\n",
      "      dtype='object')\n",
      "After droping the 'app_complete_flag' column (12) :created_date,first_platform_c,first_utm_medium_c,first_utm_source_c,total_leads_droppped,city_tier,referred_lead,assistance_interaction,career_interaction,payment_interaction,social_interaction,syllabus_interaction\n",
      "After encoding data shape : (238964, 44)\n"
     ]
    }
   ],
   "source": [
    "encode_features()"
   ]
  },
  {
   "cell_type": "code",
   "execution_count": 3,
   "id": "b423a53b-8a96-469d-97c7-53825fbb37c1",
   "metadata": {},
   "outputs": [
    {
     "name": "stdout",
     "output_type": "stream",
     "text": [
      "All the models input are present\n"
     ]
    }
   ],
   "source": [
    "input_features_check()"
   ]
  },
  {
   "cell_type": "code",
   "execution_count": 4,
   "id": "9ac5e460-f36e-403d-b9c2-3581ba7522a4",
   "metadata": {},
   "outputs": [
    {
     "name": "stdout",
     "output_type": "stream",
     "text": [
      "models:/LightGB_Lead_Scoring_Training_Pipeline_20230914035014/Production\n",
      "Loadded Model Information :LGBMClassifier(learning_rate=0.01, max_depth=10, min_child_samples=50,\n",
      "               n_estimators=200, num_leaves=50, random_state=42, reg_alpha=0.1,\n",
      "               reg_lambda=0.1, subsample=0.9, subsample_for_bin=300000)\n",
      "Loading the data from /home/airflow/dags/Lead_scoring_data_pipeline/lead_scoring_data_cleaning.db\n",
      "Predictions are done and save in Final_Predictions Table\n"
     ]
    }
   ],
   "source": [
    "get_models_prediction()"
   ]
  },
  {
   "cell_type": "code",
   "execution_count": 5,
   "id": "19e1a5aa-01b8-4b45-9596-76d4225a6b10",
   "metadata": {},
   "outputs": [
    {
     "name": "stdout",
     "output_type": "stream",
     "text": [
      "Loading the data from /home/airflow/dags/Lead_scoring_data_pipeline/lead_scoring_data_cleaning.db\n",
      "Please check the prediction_distribution.txt file\n"
     ]
    }
   ],
   "source": [
    "prediction_ratio_check()"
   ]
  },
  {
   "cell_type": "code",
   "execution_count": null,
   "id": "25c49e88-dd58-4116-9696-c4acf543655f",
   "metadata": {},
   "outputs": [],
   "source": []
  }
 ],
 "metadata": {
  "kernelspec": {
   "display_name": "Python 3 (ipykernel)",
   "language": "python",
   "name": "python3"
  },
  "language_info": {
   "codemirror_mode": {
    "name": "ipython",
    "version": 3
   },
   "file_extension": ".py",
   "mimetype": "text/x-python",
   "name": "python",
   "nbconvert_exporter": "python",
   "pygments_lexer": "ipython3",
   "version": "3.8.12"
  }
 },
 "nbformat": 4,
 "nbformat_minor": 5
}
