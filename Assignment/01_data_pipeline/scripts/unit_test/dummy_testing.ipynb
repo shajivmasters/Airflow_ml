{
 "cells": [
  {
   "cell_type": "code",
   "execution_count": 1,
   "id": "373e90a5-8506-4d69-8fe6-977c29330d5f",
   "metadata": {},
   "outputs": [],
   "source": [
    "import warnings\n",
    "\n",
    "# To ignore the warning\n",
    "warnings.filterwarnings(\"ignore\")\n",
    "\n",
    "from utils import *\n",
    "from test_with_pytest import  *"
   ]
  },
  {
   "cell_type": "code",
   "execution_count": 2,
   "id": "ba3e1cbd-e868-4a5e-b635-ec3d404f2b25",
   "metadata": {},
   "outputs": [
    {
     "name": "stdout",
     "output_type": "stream",
     "text": [
      "Processing the file ../unit_test/utils_output.db loaded_data\n",
      "Processing the file ../unit_test/unit_test_cases.db loaded_data_test_case\n",
      "All assertions passed!\n"
     ]
    }
   ],
   "source": [
    "test_load_data_into_db()"
   ]
  },
  {
   "cell_type": "code",
   "execution_count": 3,
   "id": "73138fa4-f15a-471b-afbb-1349e0aadb13",
   "metadata": {},
   "outputs": [
    {
     "name": "stdout",
     "output_type": "stream",
     "text": [
      "Processing the file ../unit_test/utils_output.db city_tier_mapped\n",
      "Processing the file ../unit_test/unit_test_cases.db city_tier_mapped_test_case\n",
      "All assertions passed!\n"
     ]
    }
   ],
   "source": [
    "test_map_city_tier()"
   ]
  },
  {
   "cell_type": "code",
   "execution_count": 4,
   "id": "e3ce935f-ccc7-426f-8b38-a2c9506ae1d8",
   "metadata": {},
   "outputs": [
    {
     "name": "stdout",
     "output_type": "stream",
     "text": [
      "Processing the file ../unit_test/utils_output.db categorical_variables_mapped\n",
      "Processing the file ../unit_test/unit_test_cases.db categorical_variables_mapped_test_case\n",
      "All assertions passed!\n"
     ]
    }
   ],
   "source": [
    "test_map_categorical_vars()"
   ]
  },
  {
   "cell_type": "code",
   "execution_count": 5,
   "id": "a42e4b8b-0a8c-4607-8479-a5f345e057c9",
   "metadata": {},
   "outputs": [
    {
     "name": "stdout",
     "output_type": "stream",
     "text": [
      "Processing the file ../unit_test/utils_output.db interactions_mapped\n",
      "Processing the file ../unit_test/unit_test_cases.db interactions_mapped_test_case\n",
      "All assertions passed!\n"
     ]
    }
   ],
   "source": [
    "test_interactions_mapping()"
   ]
  },
  {
   "cell_type": "code",
   "execution_count": null,
   "id": "80626493-7017-435c-9b07-b5f0f4a6cf25",
   "metadata": {},
   "outputs": [],
   "source": []
  }
 ],
 "metadata": {
  "kernelspec": {
   "display_name": "Python 3 (ipykernel)",
   "language": "python",
   "name": "python3"
  },
  "language_info": {
   "codemirror_mode": {
    "name": "ipython",
    "version": 3
   },
   "file_extension": ".py",
   "mimetype": "text/x-python",
   "name": "python",
   "nbconvert_exporter": "python",
   "pygments_lexer": "ipython3",
   "version": "3.8.12"
  }
 },
 "nbformat": 4,
 "nbformat_minor": 5
}
