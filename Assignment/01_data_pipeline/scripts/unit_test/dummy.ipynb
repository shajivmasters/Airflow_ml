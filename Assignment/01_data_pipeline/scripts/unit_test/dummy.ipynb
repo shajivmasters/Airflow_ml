{
 "cells": [
  {
   "cell_type": "code",
   "execution_count": 1,
   "id": "373e90a5-8506-4d69-8fe6-977c29330d5f",
   "metadata": {},
   "outputs": [],
   "source": [
    "import warnings\n",
    "# To ignore the warning\n",
    "warnings.filterwarnings(\"ignore\")\n",
    "from utils import *\n",
    "from data_validation_checks import raw_data_schema_check,model_input_schema_check"
   ]
  },
  {
   "cell_type": "code",
   "execution_count": 2,
   "id": "87ffad45-48fb-45fb-806b-4fe10af6a8ab",
   "metadata": {},
   "outputs": [
    {
     "name": "stdout",
     "output_type": "stream",
     "text": [
      "DB Already Exists\n"
     ]
    },
    {
     "data": {
      "text/plain": [
       "'DB Exists'"
      ]
     },
     "execution_count": 2,
     "metadata": {},
     "output_type": "execute_result"
    }
   ],
   "source": [
    "build_dbs()"
   ]
  },
  {
   "cell_type": "code",
   "execution_count": 3,
   "id": "939f5cc3-3d5d-45d7-a021-24fd4adff552",
   "metadata": {},
   "outputs": [
    {
     "name": "stdout",
     "output_type": "stream",
     "text": [
      "Raw data schema is in line with the schema present in schema.py\n"
     ]
    }
   ],
   "source": [
    "raw_data_schema_check()"
   ]
  },
  {
   "cell_type": "code",
   "execution_count": 4,
   "id": "55975513-9231-4800-9e80-202371efb5e0",
   "metadata": {},
   "outputs": [
    {
     "name": "stdout",
     "output_type": "stream",
     "text": [
      "../unit_test/leadscoring_test.csv\n",
      "../unit_test/utils_output.db\n"
     ]
    }
   ],
   "source": [
    "load_data_into_db()"
   ]
  },
  {
   "cell_type": "code",
   "execution_count": 5,
   "id": "42bd8b71-4fe8-4da1-93bc-d04219ac2190",
   "metadata": {},
   "outputs": [],
   "source": [
    "map_city_tier()"
   ]
  },
  {
   "cell_type": "code",
   "execution_count": 6,
   "id": "bc3c3bae-a0e3-4130-8a59-99bfb87b21c7",
   "metadata": {},
   "outputs": [
    {
     "name": "stdout",
     "output_type": "stream",
     "text": [
      "['Level0', 'Level3', 'Level7', 'Level1', 'Level2', 'Level8']\n",
      "['Level0', 'Level2', 'Level6', 'Level3', 'Level4', 'Level9', 'Level11', 'Level5', 'Level8', 'Level20', 'Level13', 'Level30', 'Level33', 'Level16', 'Level10', 'Level15', 'Level26', 'Level43']\n",
      "['Level2', 'Level0', 'Level7', 'Level4', 'Level6', 'Level16', 'Level5', 'Level14']\n"
     ]
    }
   ],
   "source": [
    "map_categorical_vars()"
   ]
  },
  {
   "cell_type": "code",
   "execution_count": 7,
   "id": "8979bab8-d9d6-44b9-8878-e203775ea69e",
   "metadata": {},
   "outputs": [],
   "source": [
    "interactions_mapping()"
   ]
  },
  {
   "cell_type": "code",
   "execution_count": 8,
   "id": "a42e4b8b-0a8c-4607-8479-a5f345e057c9",
   "metadata": {},
   "outputs": [
    {
     "name": "stdout",
     "output_type": "stream",
     "text": [
      "Model input schema is in line with the schema present in schema.py\n"
     ]
    }
   ],
   "source": [
    "model_input_schema_check()"
   ]
  }
 ],
 "metadata": {
  "kernelspec": {
   "display_name": "Python 3 (ipykernel)",
   "language": "python",
   "name": "python3"
  },
  "language_info": {
   "codemirror_mode": {
    "name": "ipython",
    "version": 3
   },
   "file_extension": ".py",
   "mimetype": "text/x-python",
   "name": "python",
   "nbconvert_exporter": "python",
   "pygments_lexer": "ipython3",
   "version": "3.8.12"
  }
 },
 "nbformat": 4,
 "nbformat_minor": 5
}
