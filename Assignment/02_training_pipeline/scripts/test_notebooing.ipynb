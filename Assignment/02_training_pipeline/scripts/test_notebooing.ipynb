{
 "cells": [
  {
   "cell_type": "code",
   "execution_count": 1,
   "id": "156e6f7b-a56b-4dc4-ab27-f8c200842b5c",
   "metadata": {},
   "outputs": [
    {
     "name": "stdout",
     "output_type": "stream",
     "text": [
      "DB_PATH : /home/airflow/dags/Lead_scoring_data_pipeline/ \n",
      "DB_FILE_NAME: lead_scoring_data_cleaning.db\n",
      "FEATURES_TO_ENCODE: ['first_platform_c', 'first_utm_medium_c', 'first_utm_source_c']\n",
      "ONE_HOT_ENCODED_FEATURES: ['city_tier', 'total_leads_droppped', 'referred_lead', 'assistance_interaction', 'career_interaction', 'payment_interaction', 'social_interaction', 'syllabus_interaction', 'first_platform_c_Level0', 'first_platform_c_Level1', 'first_platform_c_Level2', 'first_platform_c_Level3', 'first_platform_c_Level7', 'first_platform_c_Level8', 'first_platform_c_others', 'first_utm_medium_c_Level0', 'first_utm_medium_c_Level10', 'first_utm_medium_c_Level11', 'first_utm_medium_c_Level13', 'first_utm_medium_c_Level15', 'first_utm_medium_c_Level16', 'first_utm_medium_c_Level2', 'first_utm_medium_c_Level20', 'first_utm_medium_c_Level26', 'first_utm_medium_c_Level3', 'first_utm_medium_c_Level30', 'first_utm_medium_c_Level33', 'first_utm_medium_c_Level4', 'first_utm_medium_c_Level43', 'first_utm_medium_c_Level5', 'first_utm_medium_c_Level6', 'first_utm_medium_c_Level8', 'first_utm_medium_c_Level9', 'first_utm_medium_c_others', 'first_utm_source_c_Level0', 'first_utm_source_c_Level14', 'first_utm_source_c_Level16', 'first_utm_source_c_Level2', 'first_utm_source_c_Level4', 'first_utm_source_c_Level5', 'first_utm_source_c_Level6', 'first_utm_source_c_Level7', 'first_utm_source_c_others'] \n",
      "TRACKING_URI:http://0.0.0.0:6006\n",
      "EXPERIMENT:Lead_Scoring_Training_Pipeline\n",
      "DB_FILE_MLFLOW: /home/Shajiv_Assignment/Assignment/02_training_pipeline/scripts/Lead_scoring_mlflow_production.db\n",
      "\n"
     ]
    }
   ],
   "source": [
    "from utils import encode_features,get_trained_model"
   ]
  },
  {
   "cell_type": "code",
   "execution_count": 2,
   "id": "391c1f3c-cedf-4505-8d99-f334ed2bdb19",
   "metadata": {},
   "outputs": [],
   "source": [
    "import sqlite3\n",
    "DB_FILE_MLFLOW = \"/home/Shajiv_Assignment/Assignment/02_training_pipeline/scripts/Lead_scoring_mlflow_production.db\"\n",
    "conn = sqlite3.connect(DB_FILE_MLFLOW)"
   ]
  },
  {
   "cell_type": "code",
   "execution_count": 3,
   "id": "ecc0790a-d498-4946-8f4b-c3b92365ff8c",
   "metadata": {},
   "outputs": [
    {
     "name": "stdout",
     "output_type": "stream",
     "text": [
      "Before encoding data shape (13): created_date,first_platform_c,first_utm_medium_c,first_utm_source_c,total_leads_droppped,city_tier,referred_lead,app_complete_flag,assistance_interaction,career_interaction,payment_interaction,social_interaction,syllabus_interaction\n",
      "Before encoding data shape : (238964, 13)\n",
      "After encoding data shape (45): created_date,total_leads_droppped,city_tier,referred_lead,app_complete_flag,assistance_interaction,career_interaction,payment_interaction,social_interaction,syllabus_interaction,first_platform_c_Level0,first_platform_c_Level1,first_platform_c_Level2,first_platform_c_Level3,first_platform_c_Level7,first_platform_c_Level8,first_platform_c_others,first_utm_medium_c_Level0,first_utm_medium_c_Level10,first_utm_medium_c_Level11,first_utm_medium_c_Level13,first_utm_medium_c_Level15,first_utm_medium_c_Level16,first_utm_medium_c_Level2,first_utm_medium_c_Level20,first_utm_medium_c_Level26,first_utm_medium_c_Level3,first_utm_medium_c_Level30,first_utm_medium_c_Level33,first_utm_medium_c_Level4,first_utm_medium_c_Level43,first_utm_medium_c_Level5,first_utm_medium_c_Level6,first_utm_medium_c_Level8,first_utm_medium_c_Level9,first_utm_medium_c_others,first_utm_source_c_Level0,first_utm_source_c_Level14,first_utm_source_c_Level16,first_utm_source_c_Level2,first_utm_source_c_Level4,first_utm_source_c_Level5,first_utm_source_c_Level6,first_utm_source_c_Level7,first_utm_source_c_others\n",
      "After encoding data shape : (238964, 45)\n"
     ]
    }
   ],
   "source": [
    "encode_features()"
   ]
  },
  {
   "cell_type": "code",
   "execution_count": 4,
   "id": "3698ac48-218a-4876-9bb5-6e8a2eb5baba",
   "metadata": {},
   "outputs": [
    {
     "name": "stdout",
     "output_type": "stream",
     "text": [
      "Experiment name : Lead_Scoring_Training_Pipeline\n",
      "MLFlow DB  name : /home/Shajiv_Assignment/Assignment/02_training_pipeline/scripts/Lead_scoring_mlflow_production.db\n",
      "['ActiveRun', '__all__', '__builtins__', '__cached__', '__doc__', '__file__', '__loader__', '__name__', '__package__', '__path__', '__spec__', '__version__', '_configure_mlflow_loggers', '_model_flavors_supported', 'active_run', 'artifacts', 'autolog', 'azure', 'catboost', 'create_experiment', 'data', 'delete_experiment', 'delete_run', 'delete_tag', 'diviner', 'end_run', 'entities', 'evaluate', 'exceptions', 'fastai', 'get_artifact_uri', 'get_experiment', 'get_experiment_by_name', 'get_registry_uri', 'get_run', 'get_tracking_uri', 'gluon', 'h2o', 'keras', 'last_active_run', 'lightgbm', 'list_experiments', 'list_run_infos', 'log_artifact', 'log_artifacts', 'log_dict', 'log_figure', 'log_image', 'log_metric', 'log_metrics', 'log_param', 'log_params', 'log_text', 'mleap', 'mlflow', 'models', 'onnx', 'paddle', 'pmdarima', 'projects', 'prophet', 'protos', 'pyfunc', 'pyspark', 'pytorch', 'register_model', 'run', 'search_runs', 'set_experiment', 'set_registry_uri', 'set_tag', 'set_tags', 'set_tracking_uri', 'shap', 'sklearn', 'spacy', 'spark', 'start_run', 'statsmodels', 'store', 'tensorflow', 'tracking', 'types', 'utils', 'version', 'warnings', 'xgboost']\n",
      "Created experiment: Lead_Scoring_Training_Pipeline_20230914035014\n",
      "LGBMClassifier(learning_rate=0.01, max_depth=10, min_child_samples=50,\n",
      "               n_estimators=200, num_leaves=50, random_state=42, reg_alpha=0.1,\n",
      "               reg_lambda=0.1, subsample=0.9, subsample_for_bin=300000)\n"
     ]
    },
    {
     "name": "stderr",
     "output_type": "stream",
     "text": [
      "Successfully registered model 'LightGB_Lead_Scoring_Training_Pipeline_20230914035014'.\n",
      "2023/09/14 03:50:26 INFO mlflow.tracking._model_registry.client: Waiting up to 300 seconds for model version to finish creation.                     Model name: LightGB_Lead_Scoring_Training_Pipeline_20230914035014, version 1\n",
      "Created version '1' of model 'LightGB_Lead_Scoring_Training_Pipeline_20230914035014'.\n"
     ]
    },
    {
     "name": "stdout",
     "output_type": "stream",
     "text": [
      "Inside MLflow Run with id 2a9ddab40c7e47bcaf1d085ae18bc469\n"
     ]
    }
   ],
   "source": [
    "get_trained_model()"
   ]
  },
  {
   "cell_type": "code",
   "execution_count": null,
   "id": "3b3965c6-0bb1-419d-b7b2-bd24c06675bf",
   "metadata": {},
   "outputs": [],
   "source": []
  },
  {
   "cell_type": "code",
   "execution_count": null,
   "id": "9a92d3a8-35c2-4775-bd8c-93129f2f3372",
   "metadata": {},
   "outputs": [],
   "source": []
  }
 ],
 "metadata": {
  "kernelspec": {
   "display_name": "Python 3 (ipykernel)",
   "language": "python",
   "name": "python3"
  },
  "language_info": {
   "codemirror_mode": {
    "name": "ipython",
    "version": 3
   },
   "file_extension": ".py",
   "mimetype": "text/x-python",
   "name": "python",
   "nbconvert_exporter": "python",
   "pygments_lexer": "ipython3",
   "version": "3.8.12"
  }
 },
 "nbformat": 4,
 "nbformat_minor": 5
}
