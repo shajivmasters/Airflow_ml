{
 "cells": [
  {
   "cell_type": "code",
   "execution_count": 1,
   "id": "373e90a5-8506-4d69-8fe6-977c29330d5f",
   "metadata": {},
   "outputs": [],
   "source": [
    "import warnings\n",
    "\n",
    "# To ignore the warning\n",
    "warnings.filterwarnings(\"ignore\")\n",
    "\n",
    "from utils import *\n",
    "from constants import DB_PATH,DB_FILE_NAME"
   ]
  },
  {
   "cell_type": "code",
   "execution_count": 2,
   "id": "c53b57b4-bd72-400a-83ea-aa647c5f482b",
   "metadata": {},
   "outputs": [
    {
     "name": "stdout",
     "output_type": "stream",
     "text": [
      "../scripts/ utils_output.db\n"
     ]
    }
   ],
   "source": [
    "print(DB_PATH,DB_FILE_NAME)\n"
   ]
  },
  {
   "cell_type": "code",
   "execution_count": 3,
   "id": "87ffad45-48fb-45fb-806b-4fe10af6a8ab",
   "metadata": {},
   "outputs": [
    {
     "name": "stdout",
     "output_type": "stream",
     "text": [
      "DB Already Exists\n"
     ]
    },
    {
     "data": {
      "text/plain": [
       "'DB Exists'"
      ]
     },
     "execution_count": 3,
     "metadata": {},
     "output_type": "execute_result"
    }
   ],
   "source": [
    "build_dbs(DB_FILE_NAME,DB_PATH)"
   ]
  },
  {
   "cell_type": "code",
   "execution_count": 4,
   "id": "724a588e-06bc-44a8-9afc-c7acfff0da8f",
   "metadata": {},
   "outputs": [],
   "source": [
    "from constants import DB_FILE_NAME,DB_PATH,DATA_DIRECTORY"
   ]
  },
  {
   "cell_type": "code",
   "execution_count": 5,
   "id": "e69f5d08-6f53-4a38-8bf8-f926867a1dcb",
   "metadata": {},
   "outputs": [
    {
     "name": "stdout",
     "output_type": "stream",
     "text": [
      "utils_output.db ../scripts/ data/\n"
     ]
    }
   ],
   "source": [
    "print(DB_FILE_NAME,DB_PATH,DATA_DIRECTORY)"
   ]
  },
  {
   "cell_type": "code",
   "execution_count": 6,
   "id": "55975513-9231-4800-9e80-202371efb5e0",
   "metadata": {},
   "outputs": [
    {
     "name": "stdout",
     "output_type": "stream",
     "text": [
      "data/leadscoring.csv\n",
      "../scripts/utils_output.db\n"
     ]
    }
   ],
   "source": [
    "load_data_into_db(DB_FILE_NAME,DB_PATH,DATA_DIRECTORY)"
   ]
  },
  {
   "cell_type": "code",
   "execution_count": 7,
   "id": "8a4dcab2-925a-427c-b4ed-a2397e5cd419",
   "metadata": {},
   "outputs": [],
   "source": [
    "from city_tier_mapping import city_tier_mapping\n"
   ]
  },
  {
   "cell_type": "code",
   "execution_count": 8,
   "id": "56f26507-eb31-4f10-931f-19371c0fd87a",
   "metadata": {},
   "outputs": [
    {
     "name": "stdout",
     "output_type": "stream",
     "text": [
      "{'bengaluru': 1, 'chennai': 1, 'hyderabad': 1, 'kolkata': 1, 'mumbai': 1, 'ncr': 1, 'pune': 1, 'agra': 2, 'ahmedabad': 2, 'aligarh': 2, 'anand': 2, 'bhopal': 2, 'coimbatore': 2, 'gandhinagar': 2, 'gwalior': 2, 'indore': 2, 'jabalpur': 2, 'jaipur': 2, 'kanpur': 2, 'kochi': 2, 'lucknow': 2, 'ludhiana': 2, 'madurai': 2, 'meerut': 2, 'nagpur': 2, 'nashik': 2, 'patna': 2, 'rajkot': 2, 'solapur': 2, 'surat': 2, 'tiruchirapalli': 2, 'vadodara': 2, 'vijayawada': 2, 'vishakapatnam': 2, 'allahabad': 3, 'amravati': 3, 'amritsar': 3, 'aurangabad': 3, 'bhavnagar': 3, 'bhilai': 3, 'bhubaneswar': 3, 'chandigarh': 3, 'dehradun': 3, 'dhanbad': 3, 'etawah': 3, 'faridabad': 3, 'gorakhpur': 3, 'guntur': 3, 'guwahati': 3, 'hajipur': 3, 'hubli-dharwad': 3, 'jammu': 3, 'jamnagar': 3, 'jamshedpur': 3, 'jodhpur': 3, 'kannur': 3, 'kollam': 3, 'kozhikode': 3, 'kurnool': 3, 'mangalore': 3, 'mysore': 3, 'nellore': 3, 'patiala': 3, 'pondicherry': 3, 'raipur': 3, 'ranchi': 3, 'roorkee': 3, 'salem': 3, 'sangli': 3, 'srinagar': 3, 'thiruvananthapuram': 3, 'thrissur': 3, 'tirunelveli': 3, 'varanasi': 3, 'vellore': 3, 'warangal': 3}\n"
     ]
    }
   ],
   "source": [
    "print(city_tier_mapping)"
   ]
  },
  {
   "cell_type": "code",
   "execution_count": 9,
   "id": "42bd8b71-4fe8-4da1-93bc-d04219ac2190",
   "metadata": {},
   "outputs": [],
   "source": [
    "map_city_tier(DB_FILE_NAME,DB_PATH,city_tier_mapping)"
   ]
  },
  {
   "cell_type": "code",
   "execution_count": 10,
   "id": "bc3c3bae-a0e3-4130-8a59-99bfb87b21c7",
   "metadata": {},
   "outputs": [],
   "source": [
    "from significant_categorical_level import list_platform,list_medium,list_source\n",
    "\n",
    "map_categorical_vars(DB_FILE_NAME,DB_PATH,list_platform,list_medium,list_source)"
   ]
  },
  {
   "cell_type": "code",
   "execution_count": 11,
   "id": "73694532-8a3b-43ea-9766-7f873d96e99e",
   "metadata": {},
   "outputs": [],
   "source": [
    "from constants import DB_FILE_NAME,DB_PATH,INTERACTION_MAPPING,INDEX_COLUMNS_TRAINING,INDEX_COLUMNS_INFERENCE,NOT_FEATURES"
   ]
  },
  {
   "cell_type": "code",
   "execution_count": 12,
   "id": "142f159e-c4bc-4e85-91a1-818566c94a22",
   "metadata": {},
   "outputs": [],
   "source": [
    "#print(INDEX_COLUMNS_TRAINING)"
   ]
  },
  {
   "cell_type": "code",
   "execution_count": 13,
   "id": "8979bab8-d9d6-44b9-8878-e203775ea69e",
   "metadata": {},
   "outputs": [],
   "source": [
    "#INDEX_COLUMNS_INFERENCE=[]\n",
    "interactions_mapping(DB_FILE_NAME,DB_PATH,INTERACTION_MAPPING,INDEX_COLUMNS_TRAINING,INDEX_COLUMNS_INFERENCE,NOT_FEATURES)"
   ]
  },
  {
   "cell_type": "code",
   "execution_count": null,
   "id": "a42e4b8b-0a8c-4607-8479-a5f345e057c9",
   "metadata": {},
   "outputs": [],
   "source": []
  }
 ],
 "metadata": {
  "kernelspec": {
   "display_name": "Python 3 (ipykernel)",
   "language": "python",
   "name": "python3"
  },
  "language_info": {
   "codemirror_mode": {
    "name": "ipython",
    "version": 3
   },
   "file_extension": ".py",
   "mimetype": "text/x-python",
   "name": "python",
   "nbconvert_exporter": "python",
   "pygments_lexer": "ipython3",
   "version": "3.8.12"
  }
 },
 "nbformat": 4,
 "nbformat_minor": 5
}
